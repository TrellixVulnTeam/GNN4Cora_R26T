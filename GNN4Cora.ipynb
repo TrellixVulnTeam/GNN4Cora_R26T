{
 "cells": [
  {
   "cell_type": "markdown",
   "id": "9f9089eb",
   "metadata": {},
   "source": [
    "# Graph Neural Networks for Cora Dataset\n",
    "This file briefly explains **how to set up the environment and perform a simple run using the submitted code**. For detailed command-line arguments explanations, check `README.md`. For more details on theory and experiment, check `Report.pdf`. To see a complete setup-run procedure, check https://drive.google.com/file/d/1ZyLTXgGcWOLmPE0lKd1rb3FqZTy6wmnO/view?usp=sharing."
   ]
  },
  {
   "cell_type": "markdown",
   "id": "f9caf19d",
   "metadata": {},
   "source": [
    "## Introduction\n",
    "This file relates to a course project which aims to train and test multi-class classifiers on the [Cora Dataset](https://linqs-data.soe.ucsc.edu/public/lbc/cora.tgz). Here, we mainly focus on using GNNs (Graph Neural Networks) and compare different ideas of designing the network structure. We implement three GNNs, namely [GCN](https://arxiv.org/pdf/1609.02907.pdf), [GAT](https://arxiv.org/pdf/1710.10903.pdf) and [GaAN](https://arxiv.org/pdf/1803.07294.pdf).\n",
    "\n",
    "The model implementation uses [PyTorch](https://pytorch.org/) and [Deep Graph Library](https://www.dgl.ai/)."
   ]
  },
  {
   "cell_type": "markdown",
   "id": "a455e535",
   "metadata": {},
   "source": [
    "## Note\n",
    "For reference, our python version and GPU status are listed below: "
   ]
  },
  {
   "cell_type": "code",
   "execution_count": 1,
   "id": "6cee303d",
   "metadata": {},
   "outputs": [
    {
     "name": "stdout",
     "output_type": "stream",
     "text": [
      "Python 3.9.12\n",
      "nvcc: NVIDIA (R) Cuda compiler driver\n",
      "Copyright (c) 2005-2021 NVIDIA Corporation\n",
      "Built on Fri_Dec_17_18:28:54_Pacific_Standard_Time_2021\n",
      "Cuda compilation tools, release 11.6, V11.6.55\n",
      "Build cuda_11.6.r11.6/compiler.30794723_0\n"
     ]
    }
   ],
   "source": [
    "!python --version\n",
    "!nvcc --version"
   ]
  },
  {
   "cell_type": "code",
   "execution_count": 14,
   "id": "13afce91",
   "metadata": {},
   "outputs": [
    {
     "name": "stdout",
     "output_type": "stream",
     "text": [
      "Sun May 29 21:16:49 2022       \n",
      "+-----------------------------------------------------------------------------+\n",
      "| NVIDIA-SMI 512.77       Driver Version: 512.77       CUDA Version: 11.6     |\n",
      "|-------------------------------+----------------------+----------------------+\n",
      "| GPU  Name            TCC/WDDM | Bus-Id        Disp.A | Volatile Uncorr. ECC |\n",
      "| Fan  Temp  Perf  Pwr:Usage/Cap|         Memory-Usage | GPU-Util  Compute M. |\n",
      "|                               |                      |               MIG M. |\n",
      "|===============================+======================+======================|\n",
      "|   0  NVIDIA GeForce ... WDDM  | 00000000:01:00.0 Off |                  N/A |\n",
      "| N/A   39C    P8     9W /  N/A |    141MiB /  6144MiB |      0%      Default |\n",
      "|                               |                      |                  N/A |\n",
      "+-------------------------------+----------------------+----------------------+\n",
      "                                                                               \n",
      "+-----------------------------------------------------------------------------+\n",
      "| Processes:                                                                  |\n",
      "|  GPU   GI   CI        PID   Type   Process name                  GPU Memory |\n",
      "|        ID   ID                                                   Usage      |\n",
      "|=============================================================================|\n",
      "|    0   N/A  N/A      2060    C+G   ...2gh52qy24etm\\Nahimic3.exe    N/A      |\n",
      "|    0   N/A  N/A      9776    C+G   ...8wekyb3d8bbwe\\GameBar.exe    N/A      |\n",
      "|    0   N/A  N/A      9804    C+G   ...8bbwe\\WindowsTerminal.exe    N/A      |\n",
      "|    0   N/A  N/A     10016    C+G   ...210.53\\msedgewebview2.exe    N/A      |\n",
      "|    0   N/A  N/A     10800    C+G   ...artMenuExperienceHost.exe    N/A      |\n",
      "|    0   N/A  N/A     10824    C+G   ...n1h2txyewy\\SearchHost.exe    N/A      |\n",
      "|    0   N/A  N/A     11864    C+G   ...ekyb3d8bbwe\\YourPhone.exe    N/A      |\n",
      "|    0   N/A  N/A     12744    C+G   ...2txyewy\\TextInputHost.exe    N/A      |\n",
      "|    0   N/A  N/A     12960    C+G   ...cw5n1h2txyewy\\LockApp.exe    N/A      |\n",
      "+-----------------------------------------------------------------------------+\n"
     ]
    }
   ],
   "source": [
    "!nvidia-smi"
   ]
  },
  {
   "cell_type": "markdown",
   "id": "91165247",
   "metadata": {},
   "source": [
    "## Dependencies\n",
    "The required python packages are listed below:\n",
    "- [Pytorch](https://pytorch.org/get-started/locally/) installed with CUDA support\n",
    "- [DGL (Deep Graph Library)](https://www.dgl.ai/pages/start.html) installed with CUDA support\n",
    "- numpy\n",
    "- matplotlib"
   ]
  },
  {
   "cell_type": "markdown",
   "id": "19c9d258",
   "metadata": {},
   "source": [
    "## 1. Installation"
   ]
  },
  {
   "cell_type": "markdown",
   "id": "885cb5f7",
   "metadata": {},
   "source": [
    "### 1.1 Get Project Code\n",
    "If this file is opened in the code repository, then proceed to the next step. If this file is being examined in [**Google Colab**](https://colab.research.google.com/?utm_source=scs-index), then uncomment the following code block and run it to clone the code repository (The repository is currently private and will be opened publicly after the project submission deadline. If there is any problem, please send an email to petershen815@126.com)."
   ]
  },
  {
   "cell_type": "code",
   "execution_count": 3,
   "id": "8eeca4c6",
   "metadata": {},
   "outputs": [],
   "source": [
    "# !git clone https://github.com/WingsUpete/GNN4Cora"
   ]
  },
  {
   "cell_type": "markdown",
   "id": "b094c4eb",
   "metadata": {},
   "source": [
    "### 1.2 Set Up Environment"
   ]
  },
  {
   "cell_type": "markdown",
   "id": "602f6d41",
   "metadata": {},
   "source": [
    "Install basic packages."
   ]
  },
  {
   "cell_type": "code",
   "execution_count": 4,
   "id": "a15d6cab",
   "metadata": {},
   "outputs": [
    {
     "name": "stdout",
     "output_type": "stream",
     "text": [
      "Requirement already satisfied: numpy in c:\\users\\peter\\appdata\\roaming\\python\\python39\\site-packages (1.22.1)\n",
      "Requirement already satisfied: matplotlib in c:\\users\\peter\\appdata\\roaming\\python\\python39\\site-packages (3.5.1)\n",
      "Requirement already satisfied: packaging>=20.0 in c:\\users\\peter\\appdata\\roaming\\python\\python39\\site-packages (from matplotlib) (21.3)\n",
      "Requirement already satisfied: cycler>=0.10 in c:\\users\\peter\\appdata\\roaming\\python\\python39\\site-packages (from matplotlib) (0.11.0)\n",
      "Requirement already satisfied: kiwisolver>=1.0.1 in c:\\users\\peter\\appdata\\roaming\\python\\python39\\site-packages (from matplotlib) (1.3.2)\n",
      "Requirement already satisfied: python-dateutil>=2.7 in c:\\users\\peter\\appdata\\roaming\\python\\python39\\site-packages (from matplotlib) (2.8.2)\n",
      "Requirement already satisfied: pillow>=6.2.0 in c:\\users\\peter\\appdata\\roaming\\python\\python39\\site-packages (from matplotlib) (9.0.0)\n",
      "Requirement already satisfied: fonttools>=4.22.0 in c:\\users\\peter\\appdata\\roaming\\python\\python39\\site-packages (from matplotlib) (4.28.5)\n",
      "Requirement already satisfied: pyparsing>=2.2.1 in c:\\users\\peter\\appdata\\roaming\\python\\python39\\site-packages (from matplotlib) (3.0.6)\n",
      "Requirement already satisfied: six>=1.5 in c:\\users\\peter\\appdata\\roaming\\python\\python39\\site-packages (from python-dateutil>=2.7->matplotlib) (1.16.0)\n"
     ]
    }
   ],
   "source": [
    "!python -m pip install numpy matplotlib"
   ]
  },
  {
   "cell_type": "markdown",
   "id": "9983ac3a",
   "metadata": {},
   "source": [
    "Install PyTorch and DGL."
   ]
  },
  {
   "cell_type": "code",
   "execution_count": 5,
   "id": "1658955e",
   "metadata": {},
   "outputs": [
    {
     "name": "stdout",
     "output_type": "stream",
     "text": [
      "Looking in indexes: https://pypi.org/simple, https://download.pytorch.org/whl/cu113\n",
      "Requirement already satisfied: torch in d:\\anaconda3\\envs\\ida\\lib\\site-packages (1.11.0)\n",
      "Requirement already satisfied: torchvision in d:\\anaconda3\\envs\\ida\\lib\\site-packages (0.12.0)\n",
      "Requirement already satisfied: torchaudio in d:\\anaconda3\\envs\\ida\\lib\\site-packages (0.11.0)\n",
      "Requirement already satisfied: typing_extensions in c:\\users\\peter\\appdata\\roaming\\python\\python39\\site-packages (from torch) (4.0.1)\n",
      "Requirement already satisfied: numpy in c:\\users\\peter\\appdata\\roaming\\python\\python39\\site-packages (from torchvision) (1.22.1)\n",
      "Requirement already satisfied: requests in c:\\users\\peter\\appdata\\roaming\\python\\python39\\site-packages (from torchvision) (2.27.1)\n",
      "Requirement already satisfied: pillow!=8.3.*,>=5.3.0 in c:\\users\\peter\\appdata\\roaming\\python\\python39\\site-packages (from torchvision) (9.0.0)\n",
      "Requirement already satisfied: certifi>=2017.4.17 in d:\\anaconda3\\envs\\ida\\lib\\site-packages (from requests->torchvision) (2021.10.8)\n",
      "Requirement already satisfied: charset-normalizer~=2.0.0 in c:\\users\\peter\\appdata\\roaming\\python\\python39\\site-packages (from requests->torchvision) (2.0.10)\n",
      "Requirement already satisfied: urllib3<1.27,>=1.21.1 in c:\\users\\peter\\appdata\\roaming\\python\\python39\\site-packages (from requests->torchvision) (1.26.8)\n",
      "Requirement already satisfied: idna<4,>=2.5 in c:\\users\\peter\\appdata\\roaming\\python\\python39\\site-packages (from requests->torchvision) (3.3)\n"
     ]
    }
   ],
   "source": [
    "!python -m pip install torch torchvision torchaudio --extra-index-url https://download.pytorch.org/whl/cu113"
   ]
  },
  {
   "cell_type": "code",
   "execution_count": 6,
   "id": "71ade003",
   "metadata": {},
   "outputs": [
    {
     "name": "stdout",
     "output_type": "stream",
     "text": [
      "Looking in links: https://data.dgl.ai/wheels/repo.html\n",
      "Requirement already satisfied: dgl-cu113 in c:\\users\\peter\\appdata\\roaming\\python\\python39\\site-packages (0.7.2)\n",
      "Requirement already satisfied: dglgo in d:\\anaconda3\\envs\\ida\\lib\\site-packages (0.0.1)\n",
      "Requirement already satisfied: scipy>=1.1.0 in c:\\users\\peter\\appdata\\roaming\\python\\python39\\site-packages (from dgl-cu113) (1.7.3)\n",
      "Requirement already satisfied: requests>=2.19.0 in c:\\users\\peter\\appdata\\roaming\\python\\python39\\site-packages (from dgl-cu113) (2.27.1)\n",
      "Requirement already satisfied: networkx>=2.1 in c:\\users\\peter\\appdata\\roaming\\python\\python39\\site-packages (from dgl-cu113) (2.6.3)\n",
      "Requirement already satisfied: numpy>=1.14.0 in c:\\users\\peter\\appdata\\roaming\\python\\python39\\site-packages (from dgl-cu113) (1.22.1)\n",
      "Requirement already satisfied: isort>=5.10.1 in d:\\anaconda3\\envs\\ida\\lib\\site-packages (from dglgo) (5.10.1)\n",
      "Requirement already satisfied: PyYAML>=5.1 in d:\\anaconda3\\envs\\ida\\lib\\site-packages (from dglgo) (6.0)\n",
      "Requirement already satisfied: typer>=0.4.0 in d:\\anaconda3\\envs\\ida\\lib\\site-packages (from dglgo) (0.4.1)\n",
      "Requirement already satisfied: ruamel.yaml>=0.17.20 in d:\\anaconda3\\envs\\ida\\lib\\site-packages (from dglgo) (0.17.21)\n",
      "Requirement already satisfied: autopep8>=1.6.0 in d:\\anaconda3\\envs\\ida\\lib\\site-packages (from dglgo) (1.6.0)\n",
      "Requirement already satisfied: numpydoc>=1.1.0 in d:\\anaconda3\\envs\\ida\\lib\\site-packages (from dglgo) (1.3.1)\n",
      "Requirement already satisfied: pydantic>=1.9.0 in d:\\anaconda3\\envs\\ida\\lib\\site-packages (from dglgo) (1.9.1)\n",
      "Requirement already satisfied: toml in d:\\anaconda3\\envs\\ida\\lib\\site-packages (from autopep8>=1.6.0->dglgo) (0.10.2)\n",
      "Requirement already satisfied: pycodestyle>=2.8.0 in d:\\anaconda3\\envs\\ida\\lib\\site-packages (from autopep8>=1.6.0->dglgo) (2.8.0)\n",
      "Requirement already satisfied: sphinx>=3.0 in d:\\anaconda3\\envs\\ida\\lib\\site-packages (from numpydoc>=1.1.0->dglgo) (4.5.0)\n",
      "Requirement already satisfied: Jinja2>=2.10 in d:\\anaconda3\\envs\\ida\\lib\\site-packages (from numpydoc>=1.1.0->dglgo) (3.1.2)\n",
      "Requirement already satisfied: MarkupSafe>=2.0 in d:\\anaconda3\\envs\\ida\\lib\\site-packages (from Jinja2>=2.10->numpydoc>=1.1.0->dglgo) (2.1.1)\n",
      "Requirement already satisfied: typing-extensions>=3.7.4.3 in c:\\users\\peter\\appdata\\roaming\\python\\python39\\site-packages (from pydantic>=1.9.0->dglgo) (4.0.1)\n",
      "Requirement already satisfied: charset-normalizer~=2.0.0 in c:\\users\\peter\\appdata\\roaming\\python\\python39\\site-packages (from requests>=2.19.0->dgl-cu113) (2.0.10)\n",
      "Requirement already satisfied: certifi>=2017.4.17 in d:\\anaconda3\\envs\\ida\\lib\\site-packages (from requests>=2.19.0->dgl-cu113) (2021.10.8)\n",
      "Requirement already satisfied: urllib3<1.27,>=1.21.1 in c:\\users\\peter\\appdata\\roaming\\python\\python39\\site-packages (from requests>=2.19.0->dgl-cu113) (1.26.8)\n",
      "Requirement already satisfied: idna<4,>=2.5 in c:\\users\\peter\\appdata\\roaming\\python\\python39\\site-packages (from requests>=2.19.0->dgl-cu113) (3.3)\n",
      "Requirement already satisfied: ruamel.yaml.clib>=0.2.6 in d:\\anaconda3\\envs\\ida\\lib\\site-packages (from ruamel.yaml>=0.17.20->dglgo) (0.2.6)\n",
      "Requirement already satisfied: sphinxcontrib-htmlhelp>=2.0.0 in d:\\anaconda3\\envs\\ida\\lib\\site-packages (from sphinx>=3.0->numpydoc>=1.1.0->dglgo) (2.0.0)\n",
      "Requirement already satisfied: sphinxcontrib-devhelp in d:\\anaconda3\\envs\\ida\\lib\\site-packages (from sphinx>=3.0->numpydoc>=1.1.0->dglgo) (1.0.2)\n",
      "Requirement already satisfied: sphinxcontrib-serializinghtml>=1.1.5 in d:\\anaconda3\\envs\\ida\\lib\\site-packages (from sphinx>=3.0->numpydoc>=1.1.0->dglgo) (1.1.5)\n",
      "Requirement already satisfied: sphinxcontrib-qthelp in d:\\anaconda3\\envs\\ida\\lib\\site-packages (from sphinx>=3.0->numpydoc>=1.1.0->dglgo) (1.0.3)\n",
      "Requirement already satisfied: snowballstemmer>=1.1 in d:\\anaconda3\\envs\\ida\\lib\\site-packages (from sphinx>=3.0->numpydoc>=1.1.0->dglgo) (2.2.0)\n",
      "Requirement already satisfied: importlib-metadata>=4.4 in d:\\anaconda3\\envs\\ida\\lib\\site-packages (from sphinx>=3.0->numpydoc>=1.1.0->dglgo) (4.11.4)\n",
      "Requirement already satisfied: sphinxcontrib-applehelp in d:\\anaconda3\\envs\\ida\\lib\\site-packages (from sphinx>=3.0->numpydoc>=1.1.0->dglgo) (1.0.2)\n",
      "Requirement already satisfied: colorama>=0.3.5 in d:\\anaconda3\\envs\\ida\\lib\\site-packages (from sphinx>=3.0->numpydoc>=1.1.0->dglgo) (0.4.4)\n",
      "Requirement already satisfied: docutils<0.18,>=0.14 in d:\\anaconda3\\envs\\ida\\lib\\site-packages (from sphinx>=3.0->numpydoc>=1.1.0->dglgo) (0.17.1)\n",
      "Requirement already satisfied: sphinxcontrib-jsmath in d:\\anaconda3\\envs\\ida\\lib\\site-packages (from sphinx>=3.0->numpydoc>=1.1.0->dglgo) (1.0.1)\n",
      "Requirement already satisfied: packaging in c:\\users\\peter\\appdata\\roaming\\python\\python39\\site-packages (from sphinx>=3.0->numpydoc>=1.1.0->dglgo) (21.3)\n",
      "Requirement already satisfied: alabaster<0.8,>=0.7 in d:\\anaconda3\\envs\\ida\\lib\\site-packages (from sphinx>=3.0->numpydoc>=1.1.0->dglgo) (0.7.12)\n",
      "Requirement already satisfied: babel>=1.3 in d:\\anaconda3\\envs\\ida\\lib\\site-packages (from sphinx>=3.0->numpydoc>=1.1.0->dglgo) (2.10.1)\n",
      "Requirement already satisfied: imagesize in d:\\anaconda3\\envs\\ida\\lib\\site-packages (from sphinx>=3.0->numpydoc>=1.1.0->dglgo) (1.3.0)\n",
      "Requirement already satisfied: Pygments>=2.0 in d:\\anaconda3\\envs\\ida\\lib\\site-packages (from sphinx>=3.0->numpydoc>=1.1.0->dglgo) (2.12.0)\n",
      "Requirement already satisfied: pytz>=2015.7 in c:\\users\\peter\\appdata\\roaming\\python\\python39\\site-packages (from babel>=1.3->sphinx>=3.0->numpydoc>=1.1.0->dglgo) (2021.3)\n",
      "Requirement already satisfied: zipp>=0.5 in d:\\anaconda3\\envs\\ida\\lib\\site-packages (from importlib-metadata>=4.4->sphinx>=3.0->numpydoc>=1.1.0->dglgo) (3.8.0)\n",
      "Requirement already satisfied: click<9.0.0,>=7.1.1 in d:\\anaconda3\\envs\\ida\\lib\\site-packages (from typer>=0.4.0->dglgo) (8.1.3)\n",
      "Requirement already satisfied: pyparsing!=3.0.5,>=2.0.2 in c:\\users\\peter\\appdata\\roaming\\python\\python39\\site-packages (from packaging->sphinx>=3.0->numpydoc>=1.1.0->dglgo) (3.0.6)\n"
     ]
    }
   ],
   "source": [
    "!python -m pip install dgl-cu113 dglgo -f https://data.dgl.ai/wheels/repo.html"
   ]
  },
  {
   "cell_type": "markdown",
   "id": "008b4c7e",
   "metadata": {},
   "source": [
    "### 1.3 Prepare Data"
   ]
  },
  {
   "cell_type": "markdown",
   "id": "77d363e5",
   "metadata": {},
   "source": [
    "Move to the root directory if operating in **Google Colab** (if not, ignore the following line of code)."
   ]
  },
  {
   "cell_type": "code",
   "execution_count": 7,
   "id": "88cebfac",
   "metadata": {},
   "outputs": [],
   "source": [
    "# %cd /content/GNN4Cora/"
   ]
  },
  {
   "cell_type": "markdown",
   "id": "74ac4c12",
   "metadata": {},
   "source": [
    "Prepare and preprocess the data."
   ]
  },
  {
   "cell_type": "code",
   "execution_count": 8,
   "id": "543fc27f",
   "metadata": {},
   "outputs": [
    {
     "name": "stdout",
     "output_type": "stream",
     "text": [
      "D:\\tmpStorage\\IDA\\Project\\code\\GNN4Cora\\preprocess\n",
      "> [CoraPreprocessor:init] CoraPreProcessor successfully initialized.\n",
      "> [CoraPreprocessor:construct_pub_dict] Processing ../data/cora/cora.content\n",
      "> [CoraPreprocessor:construct_pub_dict] Processing ../data/cora/cora.cites\n",
      "> [CoraPreprocessor:construct_pub_dict] Collecting components to construct the publication dictionary...\n",
      "> [CoraPreprocessor:construct_pub_dict] Publication dictionary saved to ../data/cora/meta.json\n",
      "> [CoraPreprocessor:construct_graph] Constructing DGLGraph...\n",
      "> [CoraPreprocessor:construct_graph] DGLGraph saved to ../data/cora/cora.dgl\n",
      "D:\\tmpStorage\\IDA\\Project\\code\\GNN4Cora\n"
     ]
    }
   ],
   "source": [
    "import os\n",
    "if not os.path.isdir('data'):\n",
    "    print('> Creating \"data\" directory.')\n",
    "    os.mkdir('data')\n",
    "%cd preprocess/\n",
    "!python CoraPreprocessor.py -dr ../data/cora/\n",
    "%cd ../"
   ]
  },
  {
   "cell_type": "markdown",
   "id": "685bc269",
   "metadata": {},
   "source": [
    "## 2. Model Training and Evaluation"
   ]
  },
  {
   "cell_type": "markdown",
   "id": "0762b993",
   "metadata": {},
   "source": [
    "As an example, we will show how to train and evaluate GaAN."
   ]
  },
  {
   "cell_type": "code",
   "execution_count": 9,
   "id": "510b5620",
   "metadata": {
    "scrolled": true
   },
   "outputs": [
    {
     "name": "stdout",
     "output_type": "stream",
     "text": [
      "> Seed: 6666666\n",
      "> device: cuda:0\n",
      "> Loading DataSet from data/cora/\n",
      "> Data sent to cuda:0\n",
      "> view: both\n",
      "> num_nodes: 2708, num_edges: [10556]\n",
      "> num_feats: 1433, num_classes: 7\n",
      "> num_samples: training = 270, validation = 812, test = 1626\n",
      "> train_set_imbalance: {0: 28, 1: 35, 2: 79, 3: 50, 4: 22, 5: 20, 6: 36}\n",
      "> Initializing the Training Model: GaAN\n",
      "> Model Structure:\n",
      "GaAN(\n",
      "  (proj_fc): Linear(in_features=1433, out_features=128, bias=False)\n",
      "  (embed_fc): Linear(in_features=128, out_features=128, bias=False)\n",
      "  (layers): ModuleList(\n",
      "    (0): ModuleList(\n",
      "      (0): MultiHeadCGaANLayer(\n",
      "        (cGaANs): ModuleList(\n",
      "          (0): CGaANLayer(\n",
      "            (Wa): Linear(in_features=128, out_features=128, bias=False)\n",
      "            (att_out_fc_l): Linear(in_features=128, out_features=1, bias=False)\n",
      "            (att_out_fc_r): Linear(in_features=128, out_features=1, bias=False)\n",
      "            (gate_fc_l): Linear(in_features=128, out_features=1, bias=False)\n",
      "            (gate_fc_m): Linear(in_features=128, out_features=1, bias=False)\n",
      "            (gate_fc_r): Linear(in_features=128, out_features=1, bias=False)\n",
      "            (Wgm): Linear(in_features=128, out_features=128, bias=False)\n",
      "          )\n",
      "          (1): CGaANLayer(\n",
      "            (Wa): Linear(in_features=128, out_features=128, bias=False)\n",
      "            (att_out_fc_l): Linear(in_features=128, out_features=1, bias=False)\n",
      "            (att_out_fc_r): Linear(in_features=128, out_features=1, bias=False)\n",
      "            (gate_fc_l): Linear(in_features=128, out_features=1, bias=False)\n",
      "            (gate_fc_m): Linear(in_features=128, out_features=1, bias=False)\n",
      "            (gate_fc_r): Linear(in_features=128, out_features=1, bias=False)\n",
      "            (Wgm): Linear(in_features=128, out_features=128, bias=False)\n",
      "          )\n",
      "          (2): CGaANLayer(\n",
      "            (Wa): Linear(in_features=128, out_features=128, bias=False)\n",
      "            (att_out_fc_l): Linear(in_features=128, out_features=1, bias=False)\n",
      "            (att_out_fc_r): Linear(in_features=128, out_features=1, bias=False)\n",
      "            (gate_fc_l): Linear(in_features=128, out_features=1, bias=False)\n",
      "            (gate_fc_m): Linear(in_features=128, out_features=1, bias=False)\n",
      "            (gate_fc_r): Linear(in_features=128, out_features=1, bias=False)\n",
      "            (Wgm): Linear(in_features=128, out_features=128, bias=False)\n",
      "          )\n",
      "        )\n",
      "      )\n",
      "      (1): MultiHeadCGaANLayer(\n",
      "        (cGaANs): ModuleList(\n",
      "          (0): CGaANLayer(\n",
      "            (Wa): Linear(in_features=128, out_features=128, bias=False)\n",
      "            (att_out_fc_l): Linear(in_features=128, out_features=1, bias=False)\n",
      "            (att_out_fc_r): Linear(in_features=128, out_features=1, bias=False)\n",
      "            (gate_fc_l): Linear(in_features=128, out_features=1, bias=False)\n",
      "            (gate_fc_m): Linear(in_features=128, out_features=1, bias=False)\n",
      "            (gate_fc_r): Linear(in_features=128, out_features=1, bias=False)\n",
      "            (Wgm): Linear(in_features=128, out_features=128, bias=False)\n",
      "          )\n",
      "          (1): CGaANLayer(\n",
      "            (Wa): Linear(in_features=128, out_features=128, bias=False)\n",
      "            (att_out_fc_l): Linear(in_features=128, out_features=1, bias=False)\n",
      "            (att_out_fc_r): Linear(in_features=128, out_features=1, bias=False)\n",
      "            (gate_fc_l): Linear(in_features=128, out_features=1, bias=False)\n",
      "            (gate_fc_m): Linear(in_features=128, out_features=1, bias=False)\n",
      "            (gate_fc_r): Linear(in_features=128, out_features=1, bias=False)\n",
      "            (Wgm): Linear(in_features=128, out_features=128, bias=False)\n",
      "          )\n",
      "          (2): CGaANLayer(\n",
      "            (Wa): Linear(in_features=128, out_features=128, bias=False)\n",
      "            (att_out_fc_l): Linear(in_features=128, out_features=1, bias=False)\n",
      "            (att_out_fc_r): Linear(in_features=128, out_features=1, bias=False)\n",
      "            (gate_fc_l): Linear(in_features=128, out_features=1, bias=False)\n",
      "            (gate_fc_m): Linear(in_features=128, out_features=1, bias=False)\n",
      "            (gate_fc_r): Linear(in_features=128, out_features=1, bias=False)\n",
      "            (Wgm): Linear(in_features=128, out_features=128, bias=False)\n",
      "          )\n",
      "        )\n",
      "      )\n",
      "    )\n",
      "  )\n",
      "  (tran_fc): Linear(in_features=512, out_features=7, bias=True)\n",
      ")\n",
      "> Model sent to cuda:0\n",
      "> Constructing the Optimizer: ADAM\n",
      "> Using CrossEntropyLoss as the Loss Function.\n",
      "\n",
      "learning_rate = 0.01, epochs = 75\n",
      "eval_freq = 5, optimizer = ADAM\n",
      "\n",
      "Start Training!\n",
      "------------------------------------------------------------------------\n",
      "Training Round 1: loss = 2.223528, time_cost = 3.8676 sec, acc = 17.0370%\n",
      "Training Round 2: loss = 1.416553, time_cost = 0.5151 sec, acc = 45.9259%\n",
      "Training Round 3: loss = 0.809024, time_cost = 0.4751 sec, acc = 81.1111%\n",
      "Training Round 4: loss = 0.350864, time_cost = 0.4673 sec, acc = 97.4074%\n",
      "Training Round 5: loss = 0.126179, time_cost = 0.4973 sec, acc = 98.8889%\n",
      "!!! Evaluation: valid_acc = 72.6601%, test_acc = 74.1082%\n",
      "Training Round 6: loss = 0.040575, time_cost = 0.5413 sec, acc = 99.6296%\n",
      "Training Round 7: loss = 0.013756, time_cost = 0.4940 sec, acc = 99.6296%\n",
      "Training Round 8: loss = 0.006114, time_cost = 0.4738 sec, acc = 99.6296%\n",
      "Training Round 9: loss = 0.006870, time_cost = 0.4903 sec, acc = 99.6296%\n",
      "Training Round 10: loss = 0.002174, time_cost = 0.5201 sec, acc = 100.0000%\n",
      "!!! Evaluation: valid_acc = 77.5862%, test_acc = 79.4588%\n",
      "Training Round 11: loss = 0.001611, time_cost = 0.5225 sec, acc = 100.0000%\n",
      "Training Round 12: loss = 0.001822, time_cost = 0.4525 sec, acc = 100.0000%\n",
      "Training Round 13: loss = 0.001653, time_cost = 0.4874 sec, acc = 100.0000%\n",
      "Training Round 14: loss = 0.001147, time_cost = 0.4703 sec, acc = 100.0000%\n",
      "Training Round 15: loss = 0.001320, time_cost = 0.5180 sec, acc = 100.0000%\n",
      "!!! Evaluation: valid_acc = 78.6946%, test_acc = 78.4748%\n",
      "Model: model_save/20220529_21_14_50.pth has been saved since it achieves higher validation accuracy.\n",
      "Training Round 16: loss = 0.001826, time_cost = 0.4814 sec, acc = 100.0000%\n",
      "Training Round 17: loss = 0.002806, time_cost = 0.4652 sec, acc = 100.0000%\n",
      "Training Round 18: loss = 0.004046, time_cost = 0.4918 sec, acc = 100.0000%\n",
      "Training Round 19: loss = 0.006840, time_cost = 0.5150 sec, acc = 100.0000%\n",
      "Training Round 20: loss = 0.011448, time_cost = 0.4801 sec, acc = 100.0000%\n",
      "!!! Evaluation: valid_acc = 80.4187%, test_acc = 80.6888%\n",
      "Model: model_save/20220529_21_14_50.pth has been saved since it achieves higher validation accuracy.\n",
      "Training Round 21: loss = 0.016506, time_cost = 0.5051 sec, acc = 100.0000%\n",
      "Training Round 22: loss = 0.021988, time_cost = 0.4740 sec, acc = 100.0000%\n",
      "Training Round 23: loss = 0.025798, time_cost = 0.4953 sec, acc = 100.0000%\n",
      "Training Round 24: loss = 0.027582, time_cost = 0.4496 sec, acc = 100.0000%\n",
      "Training Round 25: loss = 0.027157, time_cost = 0.4801 sec, acc = 100.0000%\n",
      "!!! Evaluation: valid_acc = 80.9113%, test_acc = 81.4268%\n",
      "Model: model_save/20220529_21_14_50.pth has been saved since it achieves higher validation accuracy.\n",
      "Training Round 26: loss = 0.025316, time_cost = 0.4900 sec, acc = 100.0000%\n",
      "Training Round 27: loss = 0.023733, time_cost = 0.4602 sec, acc = 100.0000%\n",
      "Training Round 28: loss = 0.021021, time_cost = 0.4742 sec, acc = 100.0000%\n",
      "Training Round 29: loss = 0.019064, time_cost = 0.4898 sec, acc = 100.0000%\n",
      "Training Round 30: loss = 0.018693, time_cost = 0.4898 sec, acc = 100.0000%\n",
      "!!! Evaluation: valid_acc = 81.8966%, test_acc = 83.2718%\n",
      "Model: model_save/20220529_21_14_50.pth has been saved since it achieves higher validation accuracy.\n",
      "Training Round 31: loss = 0.017263, time_cost = 0.4748 sec, acc = 100.0000%\n",
      "Training Round 32: loss = 0.016815, time_cost = 0.4700 sec, acc = 100.0000%\n",
      "Training Round 33: loss = 0.014972, time_cost = 0.4698 sec, acc = 100.0000%\n",
      "Training Round 34: loss = 0.015891, time_cost = 0.4737 sec, acc = 100.0000%\n",
      "Training Round 35: loss = 0.015552, time_cost = 0.4851 sec, acc = 100.0000%\n",
      "!!! Evaluation: valid_acc = 82.2660%, test_acc = 83.5178%\n",
      "Model: model_save/20220529_21_14_50.pth has been saved since it achieves higher validation accuracy.\n",
      "Training Round 36: loss = 0.016468, time_cost = 0.4802 sec, acc = 100.0000%\n",
      "Training Round 37: loss = 0.016758, time_cost = 0.4701 sec, acc = 100.0000%\n",
      "Training Round 38: loss = 0.017992, time_cost = 0.4977 sec, acc = 100.0000%\n",
      "Training Round 39: loss = 0.017008, time_cost = 0.5317 sec, acc = 100.0000%\n",
      "Training Round 40: loss = 0.019381, time_cost = 0.4693 sec, acc = 100.0000%\n",
      "!!! Evaluation: valid_acc = 81.5271%, test_acc = 83.3333%\n",
      "Training Round 41: loss = 0.017996, time_cost = 0.5032 sec, acc = 100.0000%\n",
      "Training Round 42: loss = 0.017529, time_cost = 0.5167 sec, acc = 100.0000%\n",
      "Training Round 43: loss = 0.017114, time_cost = 0.4600 sec, acc = 100.0000%\n",
      "Training Round 44: loss = 0.015992, time_cost = 0.5392 sec, acc = 100.0000%\n",
      "Training Round 45: loss = 0.014252, time_cost = 0.4857 sec, acc = 100.0000%\n",
      "!!! Evaluation: valid_acc = 81.0345%, test_acc = 83.7638%\n",
      "Training Round 46: loss = 0.014856, time_cost = 0.5680 sec, acc = 100.0000%\n",
      "Training Round 47: loss = 0.015785, time_cost = 0.4858 sec, acc = 100.0000%\n",
      "Training Round 48: loss = 0.014900, time_cost = 0.4891 sec, acc = 100.0000%\n",
      "Training Round 49: loss = 0.014761, time_cost = 0.4499 sec, acc = 100.0000%\n",
      "Training Round 50: loss = 0.015807, time_cost = 0.4933 sec, acc = 100.0000%\n",
      "!!! Evaluation: valid_acc = 81.2808%, test_acc = 83.8868%\n",
      "Training Round 51: loss = 0.015776, time_cost = 0.4746 sec, acc = 100.0000%\n",
      "Training Round 52: loss = 0.015791, time_cost = 0.5003 sec, acc = 100.0000%\n",
      "Training Round 53: loss = 0.014382, time_cost = 0.4800 sec, acc = 100.0000%\n",
      "Training Round 54: loss = 0.015297, time_cost = 0.4474 sec, acc = 100.0000%\n",
      "Training Round 55: loss = 0.014776, time_cost = 0.4975 sec, acc = 100.0000%\n",
      "!!! Evaluation: valid_acc = 81.2808%, test_acc = 83.2718%\n",
      "Training Round 56: loss = 0.016091, time_cost = 0.4781 sec, acc = 100.0000%\n",
      "Training Round 57: loss = 0.014660, time_cost = 0.4898 sec, acc = 100.0000%\n",
      "Training Round 58: loss = 0.013949, time_cost = 0.4800 sec, acc = 100.0000%\n",
      "Training Round 59: loss = 0.013234, time_cost = 0.4823 sec, acc = 100.0000%\n",
      "Training Round 60: loss = 0.014130, time_cost = 0.4687 sec, acc = 100.0000%\n",
      "!!! Evaluation: valid_acc = 81.0345%, test_acc = 83.4563%\n",
      "Training Round 61: loss = 0.014111, time_cost = 0.4821 sec, acc = 100.0000%\n",
      "Training Round 62: loss = 0.013373, time_cost = 0.4610 sec, acc = 100.0000%\n",
      "Training Round 63: loss = 0.013558, time_cost = 0.5251 sec, acc = 100.0000%\n",
      "Training Round 64: loss = 0.012842, time_cost = 0.4670 sec, acc = 100.0000%\n",
      "Training Round 65: loss = 0.013460, time_cost = 0.4626 sec, acc = 100.0000%\n",
      "!!! Evaluation: valid_acc = 79.9261%, test_acc = 83.3333%\n",
      "Training Round 66: loss = 0.014459, time_cost = 0.4834 sec, acc = 100.0000%\n",
      "Training Round 67: loss = 0.014423, time_cost = 0.4869 sec, acc = 100.0000%\n",
      "Training Round 68: loss = 0.014112, time_cost = 0.4849 sec, acc = 100.0000%\n",
      "Training Round 69: loss = 0.014317, time_cost = 0.4851 sec, acc = 100.0000%\n",
      "Training Round 70: loss = 0.014304, time_cost = 0.4901 sec, acc = 100.0000%\n",
      "!!! Evaluation: valid_acc = 81.6502%, test_acc = 83.2718%\n",
      "Training Round 71: loss = 0.014176, time_cost = 0.4497 sec, acc = 100.0000%\n",
      "Training Round 72: loss = 0.012743, time_cost = 0.5000 sec, acc = 100.0000%\n",
      "Training Round 73: loss = 0.012442, time_cost = 0.4641 sec, acc = 100.0000%\n",
      "Training Round 74: loss = 0.013636, time_cost = 0.5376 sec, acc = 100.0000%\n",
      "Training Round 75: loss = 0.012804, time_cost = 0.4549 sec, acc = 100.0000%\n",
      "!!! Evaluation: valid_acc = 81.6502%, test_acc = 83.0873%\n",
      "> Training finished.\n",
      "\n",
      "> device: cuda:0\n",
      "> Loading DataSet from data/cora/\n",
      "> Data sent to cuda:0\n",
      "> view: both\n",
      "> num_nodes: 2708, num_edges: [10556]\n",
      "> num_feats: 1433, num_classes: 7\n",
      "> num_samples: training = 270, validation = 812, test = 1626\n",
      "> train_set_imbalance: {0: 28, 1: 35, 2: 79, 3: 50, 4: 22, 5: 20, 6: 36}\n",
      "> Loading model_save/20220529_21_14_50.pth\n",
      "> Model Structure:\n",
      "GaAN(\n",
      "  (proj_fc): Linear(in_features=1433, out_features=128, bias=False)\n",
      "  (embed_fc): Linear(in_features=128, out_features=128, bias=False)\n",
      "  (layers): ModuleList(\n",
      "    (0): ModuleList(\n",
      "      (0): MultiHeadCGaANLayer(\n",
      "        (cGaANs): ModuleList(\n",
      "          (0): CGaANLayer(\n",
      "            (Wa): Linear(in_features=128, out_features=128, bias=False)\n",
      "            (att_out_fc_l): Linear(in_features=128, out_features=1, bias=False)\n",
      "            (att_out_fc_r): Linear(in_features=128, out_features=1, bias=False)\n",
      "            (gate_fc_l): Linear(in_features=128, out_features=1, bias=False)\n",
      "            (gate_fc_m): Linear(in_features=128, out_features=1, bias=False)\n",
      "            (gate_fc_r): Linear(in_features=128, out_features=1, bias=False)\n",
      "            (Wgm): Linear(in_features=128, out_features=128, bias=False)\n",
      "          )\n",
      "          (1): CGaANLayer(\n",
      "            (Wa): Linear(in_features=128, out_features=128, bias=False)\n",
      "            (att_out_fc_l): Linear(in_features=128, out_features=1, bias=False)\n",
      "            (att_out_fc_r): Linear(in_features=128, out_features=1, bias=False)\n",
      "            (gate_fc_l): Linear(in_features=128, out_features=1, bias=False)\n",
      "            (gate_fc_m): Linear(in_features=128, out_features=1, bias=False)\n",
      "            (gate_fc_r): Linear(in_features=128, out_features=1, bias=False)\n",
      "            (Wgm): Linear(in_features=128, out_features=128, bias=False)\n",
      "          )\n",
      "          (2): CGaANLayer(\n",
      "            (Wa): Linear(in_features=128, out_features=128, bias=False)\n",
      "            (att_out_fc_l): Linear(in_features=128, out_features=1, bias=False)\n",
      "            (att_out_fc_r): Linear(in_features=128, out_features=1, bias=False)\n",
      "            (gate_fc_l): Linear(in_features=128, out_features=1, bias=False)\n",
      "            (gate_fc_m): Linear(in_features=128, out_features=1, bias=False)\n",
      "            (gate_fc_r): Linear(in_features=128, out_features=1, bias=False)\n",
      "            (Wgm): Linear(in_features=128, out_features=128, bias=False)\n",
      "          )\n",
      "        )\n",
      "      )\n",
      "      (1): MultiHeadCGaANLayer(\n",
      "        (cGaANs): ModuleList(\n",
      "          (0): CGaANLayer(\n",
      "            (Wa): Linear(in_features=128, out_features=128, bias=False)\n",
      "            (att_out_fc_l): Linear(in_features=128, out_features=1, bias=False)\n",
      "            (att_out_fc_r): Linear(in_features=128, out_features=1, bias=False)\n",
      "            (gate_fc_l): Linear(in_features=128, out_features=1, bias=False)\n",
      "            (gate_fc_m): Linear(in_features=128, out_features=1, bias=False)\n",
      "            (gate_fc_r): Linear(in_features=128, out_features=1, bias=False)\n",
      "            (Wgm): Linear(in_features=128, out_features=128, bias=False)\n",
      "          )\n",
      "          (1): CGaANLayer(\n",
      "            (Wa): Linear(in_features=128, out_features=128, bias=False)\n",
      "            (att_out_fc_l): Linear(in_features=128, out_features=1, bias=False)\n",
      "            (att_out_fc_r): Linear(in_features=128, out_features=1, bias=False)\n",
      "            (gate_fc_l): Linear(in_features=128, out_features=1, bias=False)\n",
      "            (gate_fc_m): Linear(in_features=128, out_features=1, bias=False)\n",
      "            (gate_fc_r): Linear(in_features=128, out_features=1, bias=False)\n",
      "            (Wgm): Linear(in_features=128, out_features=128, bias=False)\n",
      "          )\n",
      "          (2): CGaANLayer(\n",
      "            (Wa): Linear(in_features=128, out_features=128, bias=False)\n",
      "            (att_out_fc_l): Linear(in_features=128, out_features=1, bias=False)\n",
      "            (att_out_fc_r): Linear(in_features=128, out_features=1, bias=False)\n",
      "            (gate_fc_l): Linear(in_features=128, out_features=1, bias=False)\n",
      "            (gate_fc_m): Linear(in_features=128, out_features=1, bias=False)\n",
      "            (gate_fc_r): Linear(in_features=128, out_features=1, bias=False)\n",
      "            (Wgm): Linear(in_features=128, out_features=128, bias=False)\n",
      "          )\n",
      "        )\n",
      "      )\n",
      "    )\n",
      "  )\n",
      "  (tran_fc): Linear(in_features=512, out_features=7, bias=True)\n",
      ")\n",
      "> Model sent to cuda:0\n",
      "> Evaluation Results: valid_acc = 81.8966%, test_acc = 83.3948%\n",
      "> Evaluation finished.\n"
     ]
    }
   ],
   "source": [
    "!python Trainer.py -dr data/cora/ -gid 0 -m trainNeval -net GaAN -tag GaAN"
   ]
  },
  {
   "cell_type": "markdown",
   "id": "b68baf53",
   "metadata": {},
   "source": [
    "We specify the data folder as \"data/cora/\", GPU id as 0. \"-m\" specifies the training mode as \"trainNeval\", which means to evaluate the model right after training. \"-tag\" provides a tag string to the saved log file. The outputs are also saved to a log file so later on we can check it.\n",
    "\n",
    "To evaluate a trained model, pass the \".pth\" file to the trainer as follow:"
   ]
  },
  {
   "cell_type": "code",
   "execution_count": 17,
   "id": "59cfeed4",
   "metadata": {
    "scrolled": true
   },
   "outputs": [
    {
     "name": "stdout",
     "output_type": "stream",
     "text": [
      "> Seed: 6666666\n",
      "> device: cuda:0\n",
      "> Loading DataSet from data/cora/\n",
      "> Data sent to cuda:0\n",
      "> view: both\n",
      "> num_nodes: 2708, num_edges: [10556]\n",
      "> num_feats: 1433, num_classes: 7\n",
      "> num_samples: training = 270, validation = 812, test = 1626\n",
      "> train_set_imbalance: {0: 28, 1: 35, 2: 79, 3: 50, 4: 22, 5: 20, 6: 36}\n",
      "> Loading records/models/20220529_21_14_50.pth\n",
      "> Model Structure:\n",
      "GaAN(\n",
      "  (proj_fc): Linear(in_features=1433, out_features=128, bias=False)\n",
      "  (embed_fc): Linear(in_features=128, out_features=128, bias=False)\n",
      "  (layers): ModuleList(\n",
      "    (0): ModuleList(\n",
      "      (0): MultiHeadCGaANLayer(\n",
      "        (cGaANs): ModuleList(\n",
      "          (0): CGaANLayer(\n",
      "            (Wa): Linear(in_features=128, out_features=128, bias=False)\n",
      "            (att_out_fc_l): Linear(in_features=128, out_features=1, bias=False)\n",
      "            (att_out_fc_r): Linear(in_features=128, out_features=1, bias=False)\n",
      "            (gate_fc_l): Linear(in_features=128, out_features=1, bias=False)\n",
      "            (gate_fc_m): Linear(in_features=128, out_features=1, bias=False)\n",
      "            (gate_fc_r): Linear(in_features=128, out_features=1, bias=False)\n",
      "            (Wgm): Linear(in_features=128, out_features=128, bias=False)\n",
      "          )\n",
      "          (1): CGaANLayer(\n",
      "            (Wa): Linear(in_features=128, out_features=128, bias=False)\n",
      "            (att_out_fc_l): Linear(in_features=128, out_features=1, bias=False)\n",
      "            (att_out_fc_r): Linear(in_features=128, out_features=1, bias=False)\n",
      "            (gate_fc_l): Linear(in_features=128, out_features=1, bias=False)\n",
      "            (gate_fc_m): Linear(in_features=128, out_features=1, bias=False)\n",
      "            (gate_fc_r): Linear(in_features=128, out_features=1, bias=False)\n",
      "            (Wgm): Linear(in_features=128, out_features=128, bias=False)\n",
      "          )\n",
      "          (2): CGaANLayer(\n",
      "            (Wa): Linear(in_features=128, out_features=128, bias=False)\n",
      "            (att_out_fc_l): Linear(in_features=128, out_features=1, bias=False)\n",
      "            (att_out_fc_r): Linear(in_features=128, out_features=1, bias=False)\n",
      "            (gate_fc_l): Linear(in_features=128, out_features=1, bias=False)\n",
      "            (gate_fc_m): Linear(in_features=128, out_features=1, bias=False)\n",
      "            (gate_fc_r): Linear(in_features=128, out_features=1, bias=False)\n",
      "            (Wgm): Linear(in_features=128, out_features=128, bias=False)\n",
      "          )\n",
      "        )\n",
      "      )\n",
      "      (1): MultiHeadCGaANLayer(\n",
      "        (cGaANs): ModuleList(\n",
      "          (0): CGaANLayer(\n",
      "            (Wa): Linear(in_features=128, out_features=128, bias=False)\n",
      "            (att_out_fc_l): Linear(in_features=128, out_features=1, bias=False)\n",
      "            (att_out_fc_r): Linear(in_features=128, out_features=1, bias=False)\n",
      "            (gate_fc_l): Linear(in_features=128, out_features=1, bias=False)\n",
      "            (gate_fc_m): Linear(in_features=128, out_features=1, bias=False)\n",
      "            (gate_fc_r): Linear(in_features=128, out_features=1, bias=False)\n",
      "            (Wgm): Linear(in_features=128, out_features=128, bias=False)\n",
      "          )\n",
      "          (1): CGaANLayer(\n",
      "            (Wa): Linear(in_features=128, out_features=128, bias=False)\n",
      "            (att_out_fc_l): Linear(in_features=128, out_features=1, bias=False)\n",
      "            (att_out_fc_r): Linear(in_features=128, out_features=1, bias=False)\n",
      "            (gate_fc_l): Linear(in_features=128, out_features=1, bias=False)\n",
      "            (gate_fc_m): Linear(in_features=128, out_features=1, bias=False)\n",
      "            (gate_fc_r): Linear(in_features=128, out_features=1, bias=False)\n",
      "            (Wgm): Linear(in_features=128, out_features=128, bias=False)\n",
      "          )\n",
      "          (2): CGaANLayer(\n",
      "            (Wa): Linear(in_features=128, out_features=128, bias=False)\n",
      "            (att_out_fc_l): Linear(in_features=128, out_features=1, bias=False)\n",
      "            (att_out_fc_r): Linear(in_features=128, out_features=1, bias=False)\n",
      "            (gate_fc_l): Linear(in_features=128, out_features=1, bias=False)\n",
      "            (gate_fc_m): Linear(in_features=128, out_features=1, bias=False)\n",
      "            (gate_fc_r): Linear(in_features=128, out_features=1, bias=False)\n",
      "            (Wgm): Linear(in_features=128, out_features=128, bias=False)\n",
      "          )\n",
      "        )\n",
      "      )\n",
      "    )\n",
      "  )\n",
      "  (tran_fc): Linear(in_features=512, out_features=7, bias=True)\n",
      ")\n",
      "> Model sent to cuda:0\n",
      "> Evaluation Results: valid_acc = 81.8966%, test_acc = 83.5178%\n",
      "> Evaluation finished.\n"
     ]
    }
   ],
   "source": [
    "!python Trainer.py -dr data/cora/ -gid 0 -m eval -e records/models/20220529_21_14_50.pth -tag GaAN"
   ]
  },
  {
   "cell_type": "markdown",
   "id": "7759bdc4",
   "metadata": {},
   "source": [
    "The results might vary due to the randomness of dataset splitting (although a seed value is used, strangely).\n",
    "\n",
    "To examine the training procedure as a figure, we plot the loss curve as follow:"
   ]
  },
  {
   "cell_type": "code",
   "execution_count": 16,
   "id": "72aa020b",
   "metadata": {},
   "outputs": [
    {
     "name": "stdout",
     "output_type": "stream",
     "text": [
      "D:\\tmpStorage\\IDA\\Project\\code\\GNN4Cora\\postprocess\n",
      "Analyzing log file: ../records/logs/GaAN_trainNeval_20220529_21_14_50.log\n",
      "Average train time: 0.5317 sec\n",
      "Plotting loss curve.\n",
      "Loss curve saved to ./GaAN_trainNeval_20220529_21_14_50.png\n",
      "All analysis tasks finished.\n"
     ]
    },
    {
     "data": {
      "image/png": "[encoded data removed]",
      "text/plain": [
       "<IPython.core.display.Image object>"
      ]
     },
     "metadata": {},
     "output_type": "display_data"
    },
    {
     "name": "stdout",
     "output_type": "stream",
     "text": [
      "D:\\tmpStorage\\IDA\\Project\\code\\GNN4Cora\n"
     ]
    }
   ],
   "source": [
    "%cd postprocess/\n",
    "!python LossCurveRenderer.py -i ../records/logs/GaAN_trainNeval_20220529_21_14_50.log -o ./\n",
    "from IPython.display import Image, display\n",
    "display(Image(filename='GaAN_trainNeval_20220529_21_14_50.png'))\n",
    "%cd ../"
   ]
  },
  {
   "cell_type": "markdown",
   "id": "b832dbc8",
   "metadata": {},
   "source": [
    "We can see that the loss of the implemented GaAN model quickly decreased and converged in less than 10 epochs."
   ]
  }
 ],
 "metadata": {
  "kernelspec": {
   "display_name": "ida",
   "language": "python",
   "name": "ida"
  },
  "language_info": {
   "codemirror_mode": {
    "name": "ipython",
    "version": 3
   },
   "file_extension": ".py",
   "mimetype": "text/x-python",
   "name": "python",
   "nbconvert_exporter": "python",
   "pygments_lexer": "ipython3",
   "version": "3.9.12"
  }
 },
 "nbformat": 4,
 "nbformat_minor": 5
}
